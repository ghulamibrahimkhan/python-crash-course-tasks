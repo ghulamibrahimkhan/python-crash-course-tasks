{
 "cells": [
  {
   "cell_type": "markdown",
   "metadata": {},
   "source": [
    "#### 4-13. Buffet: A buffet-style restaurant offers only five basic foods. Think of five simple foods, and store them in a tuple.\n",
    "1. Use a for loop to print each food the restaurant offers.\n",
    "2. Try to modify one of the items, and make sure that Python rejects the \n",
    "change.\n",
    "3. The restaurant changes its menu, replacing two of the items with different \n",
    "foods. Add a line that rewrites the tuple, and then use a for loop to print \n",
    "each of the items on the revised menu.\n"
   ]
  },
  {
   "cell_type": "code",
   "execution_count": 6,
   "metadata": {},
   "outputs": [
    {
     "name": "stdout",
     "output_type": "stream",
     "text": [
      "Pizza\n",
      "Wings\n",
      "Roll\n",
      "BBQ\n",
      "Pasta\n",
      "_***Error***_\n",
      "Rice\n",
      "Karhai\n",
      "Roll\n",
      "BBQ\n",
      "Pasta\n"
     ]
    }
   ],
   "source": [
    "from typing import Tuple\n",
    "menu : Tuple[str, str, str, str, str]  = (\"Pizza\",\"Wings\",\"Roll\",\"BBQ\",\"Pasta\")\n",
    "\n",
    "#1\n",
    "for i in menu:\n",
    "    print(i)\n",
    "\n",
    "#2 Error\n",
    "#menu[2] = \"Karhai\"\n",
    "print(\"_***Error***_\")\n",
    "\n",
    "#3\n",
    "menu : Tuple[str, str, str, str, str]  = (\"Rice\",\"Karhai\",\"Roll\",\"BBQ\",\"Pasta\")\n",
    "\n",
    "for i in menu:\n",
    "    print(i)\n"
   ]
  },
  {
   "cell_type": "markdown",
   "metadata": {},
   "source": [
    "#### 4-14. PEP 8: Look through the original PEP 8 style guide at https://python.org/\n",
    "dev/peps/pep-0008. You won’t use much of it now, but it might be interesting \n",
    "to skim through it.\n",
    "#### 4-15. Code Review: Choose three of the programs you’ve written in this chapter and modify each one to comply with PEP 8.\n",
    "1. Use four spaces for each indentation level. Set your text editor to insert four \n",
    "spaces every time you press the TAB key, if you haven’t already done so \n",
    "(see Appendix B for instructions on how to do this).\n",
    "2 Use less than 80 characters on each line, and set your editor to show a \n",
    "vertical guideline at the 80th character position.\n",
    "3 Don’t use blank lines excessively in your program files"
   ]
  },
  {
   "cell_type": "code",
   "execution_count": null,
   "metadata": {},
   "outputs": [],
   "source": []
  }
 ],
 "metadata": {
  "kernelspec": {
   "display_name": "Python12",
   "language": "python",
   "name": "python3"
  },
  "language_info": {
   "codemirror_mode": {
    "name": "ipython",
    "version": 3
   },
   "file_extension": ".py",
   "mimetype": "text/x-python",
   "name": "python",
   "nbconvert_exporter": "python",
   "pygments_lexer": "ipython3",
   "version": "3.12.1"
  }
 },
 "nbformat": 4,
 "nbformat_minor": 2
}
