{
 "cells": [
  {
   "cell_type": "markdown",
   "metadata": {},
   "source": [
    "#### 7-1. Rental Car: Write a program that asks the user what kind of rental car they \n",
    "would like. Print a message about that car, such as Let me see if I can find you a Subaru."
   ]
  },
  {
   "cell_type": "code",
   "execution_count": 2,
   "metadata": {},
   "outputs": [
    {
     "name": "stdout",
     "output_type": "stream",
     "text": [
      "Let me see if i can find you toyota\n"
     ]
    }
   ],
   "source": [
    "car : str = input(\" what kind of rental car they would like?\")\n",
    "print(f\"Let me see if i can find you {car}.\")"
   ]
  },
  {
   "cell_type": "markdown",
   "metadata": {},
   "source": [
    "#### 7-2. Restaurant Seating: Write a program that asks the user how many people \n",
    "are in their dinner group. If the answer is more than eight, print a message saying they’ll have to wait for a table. Otherwise, report that their table is ready"
   ]
  },
  {
   "cell_type": "code",
   "execution_count": 6,
   "metadata": {},
   "outputs": [
    {
     "name": "stdout",
     "output_type": "stream",
     "text": [
      "Their table is ready.\n"
     ]
    }
   ],
   "source": [
    "people : int = int(input(\"how many people are in their dinner group?\"))\n",
    "if people > 8:\n",
    "    print(\"They'll have to wait for a table.\")\n",
    "else:\n",
    "    print(\"Their table is ready.\")"
   ]
  },
  {
   "cell_type": "markdown",
   "metadata": {},
   "source": [
    "#### 7-3. Multiples of Ten: Ask the user for a number, and then report whether the number is a multiple of 10 or not."
   ]
  },
  {
   "cell_type": "code",
   "execution_count": 10,
   "metadata": {},
   "outputs": [
    {
     "name": "stdout",
     "output_type": "stream",
     "text": [
      "10 is a multiple of 10.\n"
     ]
    }
   ],
   "source": [
    "number = int(input(\"Enter a number: \"))\n",
    "\n",
    "if number % 10 == 0:\n",
    "    print(f\"{number} is a multiple of 10.\")\n",
    "else:\n",
    "    print(f\"{number} is not a multiple of 10.\")"
   ]
  },
  {
   "cell_type": "markdown",
   "metadata": {},
   "source": [
    "#### 7-4. Pizza Toppings: Write a loop that prompts the user to enter a series of pizza toppings until they enter a 'quit' value. As they enter each topping, print a message saying you’ll add that topping to their pizza."
   ]
  },
  {
   "cell_type": "code",
   "execution_count": 1,
   "metadata": {},
   "outputs": [
    {
     "name": "stdout",
     "output_type": "stream",
     "text": [
      "q\n",
      "q\n",
      "quit\n"
     ]
    }
   ],
   "source": [
    "input_pizza : str = \"\"\n",
    "while input_pizza.lower() != \"quit\" and input_pizza.lower() != \"q\":\n",
    "    input_pizza = input(\"Enter topping\")\n",
    "    print(input_pizza)"
   ]
  },
  {
   "cell_type": "markdown",
   "metadata": {},
   "source": [
    "#### 7-5. Movie Tickets: A movie theater charges different ticket prices depending on a person’s age. If a person is under the age of 3, the ticket is free; if they are \n",
    "##### between 3 and 12, the ticket is $10; and if they are over age 12, the ticket is \n",
    "$15. Write a loop in which you ask users their age, and then tell them the cost \n",
    "of their movie ticket."
   ]
  },
  {
   "cell_type": "code",
   "execution_count": 2,
   "metadata": {},
   "outputs": [
    {
     "name": "stdout",
     "output_type": "stream",
     "text": [
      "Ticket is free\n",
      "Ticket is free\n",
      "Ticket is 12$\n",
      "Ticket is 12$\n",
      "Ticket is 12$\n",
      "Ticket is 12$\n",
      "Ticket is 12$\n",
      "Ticket is 12$\n",
      "Ticket is 15$\n"
     ]
    }
   ],
   "source": [
    "user_age : int = 1\n",
    "\n",
    "while user_age < 100:\n",
    "    user_age = int(input(\"Enter age OR q to quit\"))\n",
    "    if user_age < 3:\n",
    "        print(\"Ticket is free\")\n",
    "    elif user_age >= 3 or user_age <12:\n",
    "        print(\"Ticket is 12$\")\n",
    "    if user_age > 12:\n",
    "        print(\"Ticket is 15$\")"
   ]
  },
  {
   "cell_type": "markdown",
   "metadata": {},
   "source": [
    "7-6. Three Exits: Write different versions of either Exercise 7-4 or 7-5 that do \n",
    "each of the following at least once:\n",
    "1. Use a conditional test in the while statement to stop the loop.\n",
    "2. Use an active variable to control how long the loop runs.\n",
    "3. Use a break statement to exit the loop when the user enters a 'quit' value.\n"
   ]
  },
  {
   "cell_type": "markdown",
   "metadata": {},
   "source": [
    "#### 7-7. Infinity: Write a loop that never ends, and run it. (To end the loop, press CTRL-C or close the window displaying the output."
   ]
  },
  {
   "cell_type": "markdown",
   "metadata": {},
   "source": [
    "#### 7-8. Deli: Make a list called sandwich_orders and fill it with the names of various sandwiches. Then make an empty list called finished_sandwiches. Loop through \n",
    "the list of sandwich orders and print a message for each order, such as I made \n",
    "your tuna sandwich. As each sandwich is made, move it to the list of finished \n",
    "sandwiches. After all the sandwiches have been made, print a message listing \n",
    "each sandwich that was made."
   ]
  },
  {
   "cell_type": "code",
   "execution_count": 10,
   "metadata": {},
   "outputs": [
    {
     "name": "stdout",
     "output_type": "stream",
     "text": [
      "I made your club sandwitch\n",
      "I made your pinwheel sandwitch\n",
      "I made your chicken sandwitch\n",
      "I made your sabich sandwitch\n",
      "club sandwitch was made\n",
      "pinwheel sandwitch was made\n",
      "chicken sandwitch was made\n",
      "sabich sandwitch was made\n"
     ]
    }
   ],
   "source": [
    "sandwitch_orders : list[str] = ['club','pinwheel','chicken','sabich']\n",
    "finish_sandwitch : list[str] = []\n",
    "\n",
    "for s in sandwitch_orders:\n",
    "    print(f\"I made your {s} sandwitch\")\n",
    "    finish_sandwitch.append(s)\n",
    "\n",
    "for fs in finish_sandwitch:\n",
    "    print(f\"{fs} sandwitch was made\")\n",
    "\n"
   ]
  },
  {
   "cell_type": "markdown",
   "metadata": {},
   "source": [
    "#### 7-9. No Pastrami: Using the list sandwich_orders from Exercise 7-8, make sure \n",
    "the sandwich 'pastrami' appears in the list at least three times. Add code \n",
    "near the beginning of your program to print a message saying the deli has \n",
    "run out of pastrami, and then use a while loop to remove all occurrences of \n",
    "'pastrami' from sandwich_orders. Make sure no pastrami sandwiches end up \n",
    "in finished_sandwiches."
   ]
  },
  {
   "cell_type": "code",
   "execution_count": 5,
   "metadata": {},
   "outputs": [
    {
     "name": "stdout",
     "output_type": "stream",
     "text": [
      "Deli has run out of pastrami\n",
      "club\n",
      "pinwheel\n",
      "chicken\n",
      "sabich\n"
     ]
    }
   ],
   "source": [
    "sandwitch_orders : list[str] = ['pastrami','club','pastrami','pinwheel','chicken','sabich','pastrami']\n",
    "finish_sandwitch : list[str] = []\n",
    "print(\"Deli has run out of pastrami\")\n",
    "while 'pastrami' in sandwitch_orders:\n",
    "    sandwitch_orders.remove('pastrami')\n",
    "for fs in sandwitch_orders:\n",
    "    finish_sandwitch.append(fs)\n",
    "\n",
    "for i in finish_sandwitch:\n",
    "    print(i)"
   ]
  },
  {
   "cell_type": "markdown",
   "metadata": {},
   "source": [
    "#### 7-10. Dream Vacation: Write a program that polls users about their dream vaca\u0002tion. Write a prompt similar to If you could visit one place in the world, where \n",
    "would you go? Include a block of code that prints the results of the poll."
   ]
  },
  {
   "cell_type": "code",
   "execution_count": 17,
   "metadata": {},
   "outputs": [
    {
     "name": "stdout",
     "output_type": "stream",
     "text": [
      "{'person1': {'name': 'ibrahim', 'city': 'karachi'}, 'person2': {'name': 'sulaman', 'city': 'haripur'}, 'person3': {'name': 'tahira', 'city': 'naran'}, 'person4': {'name': 'tayyabs', 'city': 'islamabad'}}\n",
      "person1:- Name:ibrahim. fav_city = karachi\n",
      "person2:- Name:sulaman. fav_city = haripur\n",
      "person3:- Name:tahira. fav_city = naran\n",
      "person4:- Name:tayyabs. fav_city = islamabad\n"
     ]
    }
   ],
   "source": [
    "from typing import Dict\n",
    "x = {'a':1}\n",
    "[i for i in dir(x) if \"__\" not in i]\n",
    "\n",
    "user_name : str = \"\"\n",
    "fav_city : str = \"\"\n",
    "poll : Dict[str,Dict[str,str]] = {}\n",
    "count = 1\n",
    "\n",
    "while True:\n",
    "    \n",
    "    user_name = input(\"Enter Your name\")\n",
    "    if user_name == 'q':\n",
    "        break\n",
    "    \n",
    "    fav_city = input(\"Enter your favourite city\")\n",
    "    \n",
    "    person = \"person\"+str(count)\n",
    "    \n",
    "    poll[person] = {\n",
    "        \"name\":user_name,\n",
    "        \"city\" : fav_city\n",
    "    }\n",
    "    \n",
    "    count += 1\n",
    "    \n",
    "print(poll)\n",
    "\n",
    "for k,v in poll.items():\n",
    "    print(f\"{k}:- Name:{v['name']}. fav_city = {v['city']}\")\n",
    "    "
   ]
  },
  {
   "cell_type": "code",
   "execution_count": null,
   "metadata": {},
   "outputs": [],
   "source": []
  }
 ],
 "metadata": {
  "kernelspec": {
   "display_name": "Python12",
   "language": "python",
   "name": "python3"
  },
  "language_info": {
   "codemirror_mode": {
    "name": "ipython",
    "version": 3
   },
   "file_extension": ".py",
   "mimetype": "text/x-python",
   "name": "python",
   "nbconvert_exporter": "python",
   "pygments_lexer": "ipython3",
   "version": "3.12.1"
  }
 },
 "nbformat": 4,
 "nbformat_minor": 2
}
