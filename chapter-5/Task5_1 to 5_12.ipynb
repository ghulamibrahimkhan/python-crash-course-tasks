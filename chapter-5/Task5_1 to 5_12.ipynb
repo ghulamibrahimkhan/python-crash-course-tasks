{
 "cells": [
  {
   "cell_type": "markdown",
   "metadata": {},
   "source": [
    "#### 5-1. Conditional Tests: Write a series of conditional tests. Print a statement describing each\n",
    "#### test and your prediction for the results of each test. Your code should look something like this"
   ]
  },
  {
   "cell_type": "code",
   "execution_count": 3,
   "metadata": {},
   "outputs": [
    {
     "name": "stdout",
     "output_type": "stream",
     "text": [
      "True\n",
      "False\n"
     ]
    }
   ],
   "source": [
    "car : str = \"Audi\"\n",
    "flavour = \"Fejita\"\n",
    "if car == \"Audi\":\n",
    "    print(True)\n",
    "else:\n",
    "    print(False)\n",
    "##\n",
    "if car == \"BBQ\":\n",
    "    print(True)\n",
    "else:\n",
    "    print(False)"
   ]
  },
  {
   "cell_type": "markdown",
   "metadata": {},
   "source": [
    "#### 5-2. More Conditional Tests: You don’t have to limit the number of tests you create to 10. If you want to try more comparisons, write more tests and add them to conditional_tests.py. Have at least one True and one False result for each of the following:\n",
    "1. Tests for equality and inequality with strings\n",
    "2. Tests using the lower() method\n",
    "3. Numerical tests involving equality and inequality, greater than and less \n",
    "than, greater than or equal to, and less than or equal to\n",
    "4. Tests using the and keyword and the or keyword\n",
    "5. Test whether an item is in a list\n",
    "6. Test whether an item is not in a list"
   ]
  },
  {
   "cell_type": "code",
   "execution_count": 12,
   "metadata": {},
   "outputs": [
    {
     "name": "stdout",
     "output_type": "stream",
     "text": [
      "False\n",
      "True\n",
      "---Numberical---\n",
      "False\n",
      "True\n",
      "False\n",
      "True\n",
      "---Numberical END---\n",
      "AND block ture\n",
      "OR block ture\n",
      "True\n",
      "True\n"
     ]
    }
   ],
   "source": [
    "from ast import Or\n",
    "\n",
    "\n",
    "car : str = \"Audi\"\n",
    "\n",
    "#1\n",
    "if car == 'audi':\n",
    "    print(True)\n",
    "else:\n",
    "    print(False)\n",
    "\n",
    "#2\n",
    "if car.lower() == 'audi':\n",
    "    print(True)\n",
    "else:\n",
    "    print(False)\n",
    "\n",
    "#3\n",
    "print(\"---Numberical---\")\n",
    "print(2 > 3)\n",
    "print(2 < 3)\n",
    "print(2 >= 3)\n",
    "print(2 <= 3)\n",
    "print(\"---Numberical END---\")\n",
    "\n",
    "#4\n",
    "if \"Audi\" == car and 2 == 2:\n",
    "    print(\"AND block ture\")\n",
    "\n",
    "if \"Audi\" == car or 2 == 2:\n",
    "    print(\"OR block ture\")\n",
    "\n",
    "#5\n",
    "cars : list[str] = ['Audi',\"BMW\",\"Ferrari\"]\n",
    "\n",
    "if \"BMW\" in cars:\n",
    "    print(True)\n",
    "    \n",
    "#6\n",
    "cars : list[str] = ['Audi',\"BMW\",\"Ferrari\"]\n",
    "\n",
    "if \"Toyota\" not in cars:\n",
    "    print(True)\n"
   ]
  },
  {
   "cell_type": "markdown",
   "metadata": {},
   "source": [
    "#### 5-3. Alien Colors #1: Imagine an alien was just shot down in a game. Create a variable called alien_color and assign it a value of 'green', 'yellow', or 'red'.\n",
    "1. Write an if statement to test whether the alien’s color is green. If it is, print a message that the player just earned 5 points.\n",
    "2. Write one version of this program that passes the if test and another that fails. The version that fails will have no output."
   ]
  },
  {
   "cell_type": "code",
   "execution_count": 1,
   "metadata": {},
   "outputs": [
    {
     "name": "stdout",
     "output_type": "stream",
     "text": [
      "Player earns 5 points\n"
     ]
    }
   ],
   "source": [
    "alien_color : str = \"Green\"\n",
    "\n",
    "if alien_color == 'Green':\n",
    "    print(\"Player earns 5 points\")\n",
    "    \n",
    "if alien_color == 'Yellow':\n",
    "    print(\"Player earns 5 points\")\n"
   ]
  },
  {
   "cell_type": "markdown",
   "metadata": {},
   "source": [
    "#### 5-4. Alien Colors #2: Choose a color for an alien as you did in Exercise 5-3, and write an if-else chain.\n",
    "1. If the alien’s color is green, print a statement that the player just earned 5 points for shooting the alien.\n",
    "2. If the alien’s color isn’t green, print a statement that the player just earned 10 points.\n",
    "3. Write one version of this program that runs the if block and another that \n",
    "runs the else block"
   ]
  },
  {
   "cell_type": "code",
   "execution_count": 6,
   "metadata": {},
   "outputs": [
    {
     "name": "stdout",
     "output_type": "stream",
     "text": [
      "Player earns 5 points\n"
     ]
    }
   ],
   "source": [
    "alien_color : str = \"Green\"\n",
    "\n",
    "if alien_color == 'Green':\n",
    "       print(\"Player earns 5 points\")\n",
    "elif alien_color != 'Green':\n",
    "       print(\"Player earns 10 points\")"
   ]
  },
  {
   "cell_type": "markdown",
   "metadata": {},
   "source": [
    "#### 5-5. Alien Colors #3: Turn your if-else chain from Exercise 5-4 into an if-elif else chain.\n",
    "1. If the alien is green, print a message that the player earned 5 points.\n",
    "2. If the alien is yellow, print a message that the player earned 10 points.\n",
    "3. If the alien is red, print a message that the player earned 15 points.\n",
    "4. Write three versions of this program, making sure each message is printed for the appropriate color alien."
   ]
  },
  {
   "cell_type": "code",
   "execution_count": 9,
   "metadata": {},
   "outputs": [
    {
     "name": "stdout",
     "output_type": "stream",
     "text": [
      "Player earns 5 points\n"
     ]
    }
   ],
   "source": [
    "alien_color : str = \"Green\"\n",
    "\n",
    "if alien_color == 'Green':\n",
    "       print(\"Player earns 5 points\")\n",
    "elif alien_color == 'Yellow':\n",
    "       print(\"Player earns 10 points\")\n",
    "elif alien_color == 'Red':\n",
    "       print(\"Player earns 15 points\")"
   ]
  },
  {
   "cell_type": "markdown",
   "metadata": {},
   "source": [
    "#### 5-6. Stages of Life: Write an if-elif-else chain that determines a person’s stage of life. Set a value for the variable age, and then:\n",
    "1. If the person is less than 2 years old, print a message that the person is a baby.\n",
    "2. If the person is at least 2 years old but less than 4, print a message that the person is a toddler.\n",
    "3. If the person is at least 4 years old but less than 13, print a message that the person is a kid.\n",
    "4. If the person is at least 13 years old but less than 20, print a message that the person is a teenager.\n",
    "5. If the person is at least 20 years old but less than 65, print a message that the person is an adult.\n",
    "6. If the person is age 65 or older, print a message that the person is an elder.\n"
   ]
  },
  {
   "cell_type": "code",
   "execution_count": 15,
   "metadata": {},
   "outputs": [
    {
     "name": "stdout",
     "output_type": "stream",
     "text": [
      "Person is teen\n"
     ]
    }
   ],
   "source": [
    "age : int = 13\n",
    "\n",
    "if age < 2:\n",
    "    print(\"Person in baby\")\n",
    "elif age >= 2 and age < 4:\n",
    "    print(\"Person is toddler\")\n",
    "elif age >= 4 and age < 13:\n",
    "    print(\"Person is kid\")\n",
    "elif age >= 13 and age < 20:\n",
    "    print(\"Person is teen\")\n",
    "elif age >= 20 and age < 65:\n",
    "    print(\"Person is elder\")"
   ]
  },
  {
   "cell_type": "markdown",
   "metadata": {},
   "source": [
    "#### 5-7. Favorite Fruit: Make a list of your favorite fruits, and then write a series of independent if statements that check for certain fruits in your list.\n",
    "1. Make a list of your three favorite fruits and call it favorite_fruits.\n",
    "2. Write five if statements. Each should check whether a certain kind of fruit is in your list. If the fruit is in your list, the if block should print a statement, such as You really like bananas!"
   ]
  },
  {
   "cell_type": "code",
   "execution_count": 18,
   "metadata": {},
   "outputs": [
    {
     "name": "stdout",
     "output_type": "stream",
     "text": [
      "You really like Apple!\n",
      "You really like Grapes!\n",
      "You really like Bananna!\n"
     ]
    }
   ],
   "source": [
    "favourite_fruits : list[str] = [\"Apple\",\"Grapes\",\"Orange\"]\n",
    "\n",
    "if \"Apple\" in favourite_fruits:\n",
    "    print(\"You really like Apple!\")\n",
    "if \"Grapes\" in favourite_fruits:\n",
    "    print(\"You really like Grapes!\")\n",
    "if \"Grapes\" in favourite_fruits:\n",
    "    print(\"You really like Bananna!\")\n",
    "if \"Oranges\" in favourite_fruits:\n",
    "    print(\"You really like Oranges!\")\n",
    "if \"Pomegrant\" in favourite_fruits:\n",
    "    print(\"You really like Pomegrant!\")\n"
   ]
  },
  {
   "cell_type": "markdown",
   "metadata": {},
   "source": [
    "#### 5-8. Hello Admin: Make a list of five or more usernames, including the name 'admin'. Imagine you are writing code that will print a greeting to each user after they log in to a website. Loop through the list, and print a greeting to each user.\n",
    "1. If the username is 'admin', print a special greeting, such as Hello admin, \n",
    "would you like to see a status report?\n",
    "2. Otherwise, print a generic greeting, such as Hello Jaden, thank you for \n",
    "logging in again."
   ]
  },
  {
   "cell_type": "code",
   "execution_count": 20,
   "metadata": {},
   "outputs": [
    {
     "name": "stdout",
     "output_type": "stream",
     "text": [
      "Hello Admin, would you like to see a status report\n",
      "Hello Ibrahim, thankyou for logging again\n",
      "Hello Ali, thankyou for logging again\n",
      "Hello Sulaman, thankyou for logging again\n",
      "Hello Bilal, thankyou for logging again\n"
     ]
    }
   ],
   "source": [
    "names : list[str] = [\"Admin\",\"Ibrahim\",\"Ali\",\"Sulaman\",\"Bilal\"]\n",
    "\n",
    "for i in names:\n",
    "    if i == \"Admin\":\n",
    "        print(\"Hello Admin, would you like to see a status report\")\n",
    "    else:\n",
    "        print(f\"Hello {i}, thankyou for logging again\")"
   ]
  },
  {
   "cell_type": "markdown",
   "metadata": {},
   "source": [
    "#### 5-9. No Users: Add an if test to hello_admin.py to make sure the list of users is not empty.\n",
    "1. If the list is empty, print the message We need to find some users!\n",
    "2. Remove all of the usernames from your list, and make sure the correct message is printed."
   ]
  },
  {
   "cell_type": "code",
   "execution_count": 22,
   "metadata": {},
   "outputs": [
    {
     "name": "stdout",
     "output_type": "stream",
     "text": [
      "we need to find some users\n"
     ]
    }
   ],
   "source": [
    "users : list[str] = []\n",
    "\n",
    "if users:\n",
    "    print(\"gg\")\n",
    "else:\n",
    "    print(\"we need to find some users\")"
   ]
  },
  {
   "cell_type": "markdown",
   "metadata": {},
   "source": [
    "#### 5-10. Checking Usernames: Do the following to create a program that simulates how websites ensure that everyone has a unique username.\n",
    "1. Make a list of five or more usernames called current_users.\n",
    "2. Make another list of five usernames called new_users. Make sure one or two of the new usernames are also in the current_users list.\n",
    "3. Loop through the new_users list to see if each new username has already been used. If it has, print a message that the person will need to enter a new username.\n",
    "If a username has not been used, print amessage saying that the username is available.\n",
    "4. Make sure your comparison is case insensitive. If 'John' has been used, \n",
    "'JOHN' should not be accepted. (To do this, you’ll need to make a copy of \n",
    "current_users containing the lowercase versions of all existing users.)\n"
   ]
  },
  {
   "cell_type": "code",
   "execution_count": 27,
   "metadata": {},
   "outputs": [
    {
     "name": "stdout",
     "output_type": "stream",
     "text": [
      "need to enter new name. 'ibrahim' is takes\n",
      "need to enter new name. 'Ali' is takes\n"
     ]
    }
   ],
   "source": [
    "current_user : list[str] = [\"ibrahim\",\"Ali\",\"Kanan\",\"Yahya\",\"Bilal\"]\n",
    "new_user : list[str] = [\"ibrahim\",\"Ali\",\"Sulaman\",\"Farab\",\"Tabish\"]\n",
    "\n",
    "for user in new_user:\n",
    "    if user in current_user:\n",
    "        print(f\"need to enter new name. '{user}' is taken\")\n",
    "        \n",
    "    \n",
    "\n"
   ]
  },
  {
   "cell_type": "markdown",
   "metadata": {},
   "source": [
    "#### 5-11. Ordinal Numbers: Ordinal numbers indicate their position in a list, such as 1st or 2nd. Most ordinal numbers end in th, except 1, 2, and 3.\n",
    "1. Store the numbers 1 through 9 in a list.\n",
    "2. Loop through the list.\n",
    "3. Use an if-elif-else chain inside the loop to print the proper ordinal ending for each number. Your output should read \"1st 2nd 3rd 4th 5th 6th 7th 8th 9th\", and each result should be on a separate line.\n"
   ]
  },
  {
   "cell_type": "code",
   "execution_count": 31,
   "metadata": {},
   "outputs": [
    {
     "name": "stdout",
     "output_type": "stream",
     "text": [
      "1st\n",
      "2nd\n",
      "3rd\n",
      "4th\n",
      "5th\n",
      "6th\n",
      "7th\n",
      "8th\n",
      "9th\n"
     ]
    }
   ],
   "source": [
    "numbers : list[int] = list(range(1,10))\n",
    "\n",
    "for number in numbers:\n",
    "    if number == 1:   \n",
    "        print(f\"{number}st\")\n",
    "    elif number == 2:   \n",
    "        print(f\"{number}nd\")\n",
    "    elif number == 3:   \n",
    "        print(f\"{number}rd\")\n",
    "    else:\n",
    "        print(f\"{number}th\")"
   ]
  },
  {
   "cell_type": "markdown",
   "metadata": {},
   "source": [
    "##### 5-12. Styling if Statements: Review the programs you wrote in this chapter, and make sure you styled your conditional tests appropriately.\n"
   ]
  },
  {
   "cell_type": "markdown",
   "metadata": {},
   "source": [
    "##### 5-13. Your Ideas: At this point, you’re a more capable programmer than you were when you started this book. Now that you have a better sense of how real-world situations are modeled in programs, you might be thinking of some problems you could solve with your own programs. Record any new ideas you have about problems you might want to solve as your programming skills con\u0002tinue to improve. Consider games you might want to write, datasets you might want to explore, and web applications you’d like to create"
   ]
  }
 ],
 "metadata": {
  "kernelspec": {
   "display_name": "Python12",
   "language": "python",
   "name": "python3"
  },
  "language_info": {
   "codemirror_mode": {
    "name": "ipython",
    "version": 3
   },
   "file_extension": ".py",
   "mimetype": "text/x-python",
   "name": "python",
   "nbconvert_exporter": "python",
   "pygments_lexer": "ipython3",
   "version": "3.12.1"
  }
 },
 "nbformat": 4,
 "nbformat_minor": 2
}
