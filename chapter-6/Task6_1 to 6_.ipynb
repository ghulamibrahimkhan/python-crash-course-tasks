{
 "cells": [
  {
   "cell_type": "markdown",
   "metadata": {},
   "source": [
    "#### 6-1. Person: Use a dictionary to store information about a person you know. \n",
    "Store their first name, last name, age, and the city in which they live. You \n",
    "should have keys such as first_name, last_name, age, and city. Print each piece \n",
    "of information stored in your dictionary."
   ]
  },
  {
   "cell_type": "code",
   "execution_count": null,
   "metadata": {},
   "outputs": [],
   "source": [
    "from typing import Dict,Union\n",
    "person1 : Dict[str,Union[str,int]] = {\n",
    "    \"first_name\" : \"Ibrahim\",\n",
    "    \"last_name\" : \"Khan\",\n",
    "    \"age\" : 24,\n",
    "    \"city\" : \"Karachi\"\n",
    "}"
   ]
  },
  {
   "cell_type": "markdown",
   "metadata": {},
   "source": [
    "#### 6-2. Favorite Numbers: Use a dictionary to store people’s favorite numbers. \n",
    "Think of five names, and use them as keys in your dictionary. \n",
    "Think of a favorite number for each person, and store each as a value in your dictionary.\n",
    "Print each person’s name and their favorite number.\n",
    "For even more fun, poll a few friends and get some actual data for your program."
   ]
  },
  {
   "cell_type": "code",
   "execution_count": 7,
   "metadata": {},
   "outputs": [
    {
     "name": "stdout",
     "output_type": "stream",
     "text": [
      "9\n",
      "7\n",
      "3\n",
      "5\n",
      "3\n"
     ]
    }
   ],
   "source": [
    "from typing import Dict\n",
    "fav_num : Dict[str,int] = {\n",
    "    \"Ibrahim\":7,    \n",
    "    \"Sulaman\":3,    \n",
    "    \"Fouzia\":9,    \n",
    "    \"Tahira\":3,    \n",
    "    \"Tayyaba\":5,    \n",
    "    }\n",
    "print(fav_num[\"Fouzia\"])\n",
    "print(fav_num[\"Ibrahim\"])\n",
    "print(fav_num[\"Tahira\"])\n",
    "print(fav_num[\"Tayyaba\"])\n",
    "print(fav_num[\"Sulaman\"])"
   ]
  },
  {
   "cell_type": "markdown",
   "metadata": {},
   "source": [
    "##### 6-3. Glossary: A Python dictionary can be used to model an actual dictionary. However, to avoid confusion, let’s call it a glossary.\n",
    "1. Think of five programming words you’ve learned about in the previous chapters. Use these words as the keys in your glossary, and store their meanings as values.\n",
    "2. Print each word and its meaning as neatly formatted output. You might print the word followed by a colon and then its meaning, or print the word \n",
    "on one line and then print its meaning indented on a second line. Use the \n",
    "newline character (\\n) to insert a blank line between each word-meaning \n",
    "pair in your output."
   ]
  },
  {
   "cell_type": "code",
   "execution_count": null,
   "metadata": {},
   "outputs": [],
   "source": [
    "from typing import Dict\n",
    "glossary : Dict[str,str] = {\n",
    "    \"list\" : \"stores a list of data\",\n",
    "    \"and\" : \"Checks both conditions\",\n",
    "    \"or\" : \"pass if one of the condition passes\",\n",
    "    \"pop\" : \"pop item\",\n",
    "    \"append\" : \"Insert item\"\n",
    "}\n",
    "print(glossary[\"list\"])"
   ]
  },
  {
   "cell_type": "markdown",
   "metadata": {},
   "source": [
    "#### 6-4. Glossary 2: Now that you know how to loop through a dictionary, clean \n",
    "up the code from Exercise 6-3 (page 99) by replacing your series of print()\n",
    "calls with a loop that runs through the dictionary’s keys and values. When \n",
    "you’re sure that your loop works, add five more Python terms to your glossary. \n",
    "When you run your program again, these new words and meanings should \n",
    "automatically be included in the output.\n"
   ]
  },
  {
   "cell_type": "code",
   "execution_count": 13,
   "metadata": {},
   "outputs": [
    {
     "name": "stdout",
     "output_type": "stream",
     "text": [
      "7\n",
      "3\n",
      "9\n",
      "3\n",
      "5\n",
      "7\n",
      "3\n",
      "9\n",
      "3\n",
      "5\n",
      "1\n",
      "2\n",
      "4\n",
      "6\n",
      "8\n"
     ]
    }
   ],
   "source": [
    "from typing import Dict\n",
    "fav_num : Dict[str,int] = {\n",
    "    \"Ibrahim\":7,    \n",
    "    \"Sulaman\":3,    \n",
    "    \"Fouzia\":9,    \n",
    "    \"Tahira\":3,    \n",
    "    \"Tayyaba\":5,    \n",
    "    }\n",
    "for k in fav_num:\n",
    "    print(fav_num[k])\n",
    "    \n",
    "fav_num[\"Asad\"] = 1\n",
    "fav_num[\"Farab\"] = 2\n",
    "fav_num[\"Bakhiyar\"] = 4\n",
    "fav_num[\"Shazia\"] = 6\n",
    "fav_num[\"Adnan\"] = 8\n",
    "\n",
    "for k in fav_num:\n",
    "    print(fav_num[k])"
   ]
  },
  {
   "cell_type": "markdown",
   "metadata": {},
   "source": [
    "#### 6-5. Rivers: Make a dictionary containing three major rivers and the country each river runs through. One key-value pair might be 'nile': 'egypt'.\n",
    "1. Use a loop to print a sentence about each river, such as The Nile runs \n",
    "through Egypt.\n",
    "2. Use a loop to print the name of each river included in the dictionary.\n",
    "3. Use a loop to print the name of each country included in the dictionary."
   ]
  },
  {
   "cell_type": "code",
   "execution_count": 17,
   "metadata": {},
   "outputs": [
    {
     "name": "stdout",
     "output_type": "stream",
     "text": [
      "Nile runs through Egypt\n",
      "Nile Egypt\n",
      "Egypt\n",
      "\n",
      "Chenab runs through Paskiatn\n",
      "Chenab Paskiatn\n",
      "Paskiatn\n",
      "\n",
      "Lena runs through Russia\n",
      "Lena Russia\n",
      "Russia\n",
      "\n"
     ]
    }
   ],
   "source": [
    "from typing import Dict\n",
    "\n",
    "river : Dict[str,str] = {\"Nile\":\"Egypt\",\"Chenab\":\"Paskiatn\",\"Lena\":\"Russia\"}\n",
    "\n",
    "for k,v in river.items():\n",
    "    print(f\"{k} runs through {v}\" )\n",
    "    print(f\"{k} {v}\" )\n",
    "    print(f\"{v}\\n\" )\n",
    "    "
   ]
  },
  {
   "cell_type": "markdown",
   "metadata": {},
   "source": [
    "#### 6-6. Polling: Use the code in favorite_languages.py (page 96).\n",
    "1. Make a list of people who should take the favorite languages poll. Include \n",
    "some names that are already in the dictionary and some that are not.\n",
    "2. Loop through the list of people who should take the poll. If they have \n",
    "already taken the poll, print a message thanking them for responding. \n",
    "If they have not yet taken the poll, print a message inviting them to take \n",
    "the poll."
   ]
  },
  {
   "cell_type": "code",
   "execution_count": 24,
   "metadata": {},
   "outputs": [
    {
     "name": "stdout",
     "output_type": "stream",
     "text": [
      "ibrahim! You should vote\n",
      "\n",
      "jen! Thankyou for voting\n",
      "\n",
      "sulaman! You should vote\n",
      "\n",
      "sarah! Thankyou for voting\n",
      "\n",
      "ben! You should vote\n",
      "\n",
      "sarah! Thankyou for voting\n",
      "\n"
     ]
    }
   ],
   "source": [
    "from typing import Dict\n",
    "\n",
    "favorite_languages : Dict[str,str]  = {\n",
    " 'jen': 'python',\n",
    " 'sarah': 'c',\n",
    " 'edward': 'rust',\n",
    " 'phil': 'python',\n",
    " \"jen\": 'python'\n",
    " }\n",
    "\n",
    "voters : list = ['ibrahim',\"jen\",\"sulaman\",'sarah','ben',\"sarah\"]\n",
    "\n",
    "for person in voters:\n",
    "    if person in favorite_languages.keys():\n",
    "        print(f\"{person}! Thankyou for voting\\n\")\n",
    "    else:\n",
    "        print(f\"{person}! You should vote\\n\")"
   ]
  },
  {
   "cell_type": "markdown",
   "metadata": {},
   "source": [
    "#### 6-7. People: Start with the program you wrote for Exercise 6-1 (page 98). Make \n",
    "two new dictionaries representing different people, and store all three dictionar\u0002ies in a list called people. Loop through your list of people. As you loop through \n",
    "the list, print everything you know about each person."
   ]
  },
  {
   "cell_type": "code",
   "execution_count": 30,
   "metadata": {},
   "outputs": [
    {
     "name": "stdout",
     "output_type": "stream",
     "text": [
      "Ibrahim Ibrahim\n",
      "24\n",
      "city\n",
      "\n",
      "Osama Osama\n",
      "12\n",
      "city\n",
      "\n",
      "Sohail Sohail\n",
      "60\n",
      "city\n",
      "\n"
     ]
    }
   ],
   "source": [
    "from typing import Dict,Union,List\n",
    "person1 : Dict[str,Union[str,int]] = {\n",
    "    \"first_name\" : \"Ibrahim\",\n",
    "    \"last_name\" : \"Khan\",\n",
    "    \"age\" : 24,\n",
    "    \"city\" : \"Karachi\"\n",
    "}\n",
    "person2 : Dict[str,Union[str,int]] = {\n",
    "    \"first_name\" : \"Osama\",\n",
    "    \"last_name\" : \"Zaid\",\n",
    "    \"age\" : 12,\n",
    "    \"city\" : \"Haripur\"\n",
    "}\n",
    "person3 : Dict[str,Union[str,int]] = {\n",
    "    \"first_name\" : \"Sohail\",\n",
    "    \"last_name\" : \"Rafique\",\n",
    "    \"age\" : 60,\n",
    "    \"city\" : \"Karachi\"\n",
    "}\n",
    "\n",
    "people : List[Dict[str, Union[str,int]]] = [person1,person2,person3]\n",
    "\n",
    "for person in people:\n",
    "    print(person[\"first_name\"],person[\"first_name\"])\n",
    "    print(person[\"age\"])\n",
    "    print(\"city\\n\")"
   ]
  },
  {
   "cell_type": "markdown",
   "metadata": {},
   "source": [
    "#### 6-8. Pets: Make several dictionaries, where each dictionary represents a different pet. In each dictionary, include the kind of animal and the owner’s name. \n",
    "Store these dictionaries in a list called pets. Next, loop through your list and as \n",
    "you do, print everything you know about each pet."
   ]
  },
  {
   "cell_type": "code",
   "execution_count": 33,
   "metadata": {},
   "outputs": [
    {
     "name": "stdout",
     "output_type": "stream",
     "text": [
      "Cat\n",
      "4\n",
      "Owner:  Bilal \n",
      "\n",
      "Dog\n",
      "3\n",
      "Owner:  Rubaisha \n",
      "\n",
      "Parrot\n",
      "2\n",
      "Owner:  Ibrahim \n",
      "\n"
     ]
    }
   ],
   "source": [
    "from typing import Dict,Union,List\n",
    "\n",
    "pet1 : Dict[str ,Union[str,int]] = {\n",
    "    \"kind\" : \"Cat\",\n",
    "    \"owner\" : \"Bilal\",\n",
    "    \"Age\" : 4\n",
    "}\n",
    "pet2 : Dict[str ,Union[str,int]] = {\n",
    "    \"kind\" : \"Dog\",\n",
    "    \"owner\" : \"Rubaisha\",\n",
    "    \"Age\" : 3\n",
    "}\n",
    "pet3 : Dict[str ,Union[str,int]] = {\n",
    "    \"kind\" : \"Parrot\",\n",
    "    \"owner\" : \"Ibrahim\",\n",
    "    \"Age\" : 2\n",
    "}\n",
    "\n",
    "pets : List[Dict[str, Union[str,int]]] = [pet1,pet2,pet3]\n",
    "\n",
    "for pet in pets:\n",
    "    print(pet[\"kind\"])\n",
    "    print(pet[\"Age\"])\n",
    "    print(\"Owner: \",pet[\"owner\"],\"\\n\")\n"
   ]
  },
  {
   "cell_type": "markdown",
   "metadata": {},
   "source": [
    "#### 6-9. Favorite Places: Make a dictionary called favorite_places. Think of three names to use as keys in the dictionary, and store one to three favorite places for each person. \n",
    "To make this exercise a bit more interesting, ask some friends to \n",
    "name a few of their favorite places. Loop through the dictionary, and print each \n",
    "person’s name and their favorite places."
   ]
  },
  {
   "cell_type": "code",
   "execution_count": 36,
   "metadata": {},
   "outputs": [
    {
     "name": "stdout",
     "output_type": "stream",
     "text": [
      "Ibrahim Naran\n",
      "Tahira Karachi\n",
      "Tayaba Islamabad\n"
     ]
    }
   ],
   "source": [
    "from typing import Dict\n",
    "\n",
    "favorite_places : Dict[str,str] = {\n",
    "    \"Ibrahim\" : \"Naran\",\n",
    "    \"Tahira\" : \"Karachi\",\n",
    "    \"Tayaba\" : \"Islamabad\"\n",
    "}\n",
    "\n",
    "for n,p in favorite_places.items():\n",
    "    print(n,p)"
   ]
  },
  {
   "cell_type": "markdown",
   "metadata": {},
   "source": [
    "#### 6-10. Favorite Numbers: Modify your program from Exercise 6-2 (page 98) so \n",
    "each person can have more than one favorite number. Then print each person’s \n",
    "name along with their favorite numbers."
   ]
  },
  {
   "cell_type": "code",
   "execution_count": 7,
   "metadata": {},
   "outputs": [
    {
     "name": "stdout",
     "output_type": "stream",
     "text": [
      "Ibrahim 7 2\n",
      "Sulaman 3 5\n",
      "Fouzia 9 1\n",
      "Tahira 3 7\n",
      "Tayyaba 5 8\n"
     ]
    }
   ],
   "source": [
    "from typing import Dict,List\n",
    "fav_num : Dict[str,List[int]] = {\n",
    "    \"Ibrahim\":[7,2],    \n",
    "    \"Sulaman\":[3,5],    \n",
    "    \"Fouzia\":[9,1],    \n",
    "    \"Tahira\":[3,7],    \n",
    "    \"Tayyaba\":[5,8],    \n",
    "    }\n",
    "for names,numbers in fav_num.items():\n",
    "    print(names,numbers[0],numbers[1])"
   ]
  },
  {
   "cell_type": "markdown",
   "metadata": {},
   "source": [
    "#### 6-11. Cities: Make a dictionary called cities. Use the names of three cities as keys in your dictionary.\n",
    "##### Create a dictionary of information about each city and include the country that the city is in, its approximate population, and one fact about that city. The keys for each city’s dictionary should be something like country, population, and fact. Print the name of each city and all of the information you have stored about it."
   ]
  },
  {
   "cell_type": "code",
   "execution_count": 28,
   "metadata": {},
   "outputs": [
    {
     "name": "stdout",
     "output_type": "stream",
     "text": [
      "Karachi is a city of Pakistan\n",
      "City of lights\n",
      "Lahore is a city of Pakistan\n",
      "Lahore nai dikhia to jmya yi nahi\n",
      "Peshawr is a city of Pakistan\n",
      "Naswar\n"
     ]
    }
   ],
   "source": [
    "from typing import Dict,Union\n",
    "\n",
    "cities : Dict[str, Dict[str, Union[str,int]]] = {\n",
    "    \"Karachi\" : {\n",
    "        \"population\" : 20000000,\n",
    "        \"country\" : \"Pakistan\",\n",
    "        \"fact\" : \"City of lights\",\n",
    "    },\n",
    "    \"Lahore\" : {\n",
    "        \"population\" : 200000,\n",
    "        \"country\" : \"Pakistan\",\n",
    "        \"fact\" : \"Lahore nai dikhia to jmya yi nahi\",\n",
    "    },\n",
    "    \"Peshawr\" : {\n",
    "        \"population\" : 10000,\n",
    "        \"country\" : \"Pakistan\",\n",
    "        \"fact\" : \"Naswar\",\n",
    "    },\n",
    "}\n",
    "\n",
    "for city,info in cities.items():\n",
    "    print(f\"{city.title()} is a city of {info.get('country','Na')}\")\n",
    "    print(f\"{info.get(\"fact\",\"na\")}\")\n",
    "    print(f\"{info.get(\"population\",\"na\")}\")\n",
    "    "
   ]
  },
  {
   "cell_type": "markdown",
   "metadata": {},
   "source": [
    "##### 6-12. Extensions: We’re now working with examples that are complex enough \n",
    "that they can be extended in any number of ways. Use one of the example programs from this chapter, and extend it by adding new keys and values, changing the context of the program, or improving the formatting of the output."
   ]
  },
  {
   "cell_type": "code",
   "execution_count": 2,
   "metadata": {},
   "outputs": [
    {
     "name": "stdout",
     "output_type": "stream",
     "text": [
      "Karachi is a city of Pakistan\n",
      "City of lights\n",
      "Sea view\n",
      "20000000\n",
      "Lahore is a city of Pakistan\n",
      "Lahore nai dikhia to jmya yi nahi\n",
      "na\n",
      "200000\n",
      "Peshawr is a city of Pakistan\n",
      "Naswar\n",
      "na\n",
      "10000\n"
     ]
    }
   ],
   "source": [
    "from typing import Dict,Union\n",
    "\n",
    "cities : Dict[str, Dict[str, Union[str,int]]] = {\n",
    "    \"Karachi\" : {\n",
    "        \"population\" : 20000000,\n",
    "        \"country\" : \"Pakistan\",\n",
    "        \"fact\" : \"City of lights\",\n",
    "    },\n",
    "    \"Lahore\" : {\n",
    "        \"population\" : 200000,\n",
    "        \"country\" : \"Pakistan\",\n",
    "        \"fact\" : \"Lahore nai dikhia to jmya yi nahi\",\n",
    "    },\n",
    "    \"Peshawr\" : {\n",
    "        \"population\" : 10000,\n",
    "        \"country\" : \"Pakistan\",\n",
    "        \"fact\" : \"Naswar\",\n",
    "    },\n",
    "}\n",
    "#here\n",
    "cities[\"Karachi\"][\"famous_place\"] = \"Sea view\"\n",
    "for city,info in cities.items():\n",
    "    print(f\"{city.title()} is a city of {info.get('country','Na')}\")\n",
    "    print(f\"{info.get(\"fact\",\"na\")}\")\n",
    "    #here\n",
    "    print(f\"{info.get(\"famous_place\",\"na\")}\")\n",
    "    print(f\"{info.get(\"population\",\"na\")}\")\n",
    "    "
   ]
  },
  {
   "cell_type": "code",
   "execution_count": null,
   "metadata": {},
   "outputs": [],
   "source": []
  }
 ],
 "metadata": {
  "kernelspec": {
   "display_name": "Python12",
   "language": "python",
   "name": "python3"
  },
  "language_info": {
   "codemirror_mode": {
    "name": "ipython",
    "version": 3
   },
   "file_extension": ".py",
   "mimetype": "text/x-python",
   "name": "python",
   "nbconvert_exporter": "python",
   "pygments_lexer": "ipython3",
   "version": "3.12.1"
  }
 },
 "nbformat": 4,
 "nbformat_minor": 2
}
