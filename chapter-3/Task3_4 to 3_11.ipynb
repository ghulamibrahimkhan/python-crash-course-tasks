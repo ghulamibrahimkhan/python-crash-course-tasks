{
 "cells": [
  {
   "cell_type": "markdown",
   "metadata": {},
   "source": [
    "#### 3-4. Guest List: If you could invite anyone, living or deceased, to dinner, who would you invite? Make a list that includes at least three people you’d like to invite to dinner. Then use your list to print a message to each person, inviting them to dinner."
   ]
  },
  {
   "cell_type": "code",
   "execution_count": 11,
   "metadata": {},
   "outputs": [
    {
     "name": "stdout",
     "output_type": "stream",
     "text": [
      "Imran Khan It would be an honor to have you join us.\n",
      "Siraj Ul Haq It would be an honor to have you join us.\n",
      "Ibrahim Khan It would be an honor to have you join us.\n"
     ]
    }
   ],
   "source": [
    "guest : list[str] = [\"Imran Khan\",\"Siraj ul Haq\",\"Ibrahim Khan\"]\n",
    "\n",
    "print(f\"{guest[0].title()} It would be an honor to have you join us.\")\n",
    "print(f\"{guest[1].title()} It would be an honor to have you join us.\")\n",
    "print(f\"{guest[2].title()} It would be an honor to have you join us.\")\n"
   ]
  },
  {
   "cell_type": "markdown",
   "metadata": {},
   "source": [
    "#### 3-5. Changing Guest List: You just heard that one of your guests can’t make the dinner, so you need to send out a new set of invitations. You’ll have to think of someone else to invite.\n",
    "- Start with your program from Exercise 3-4. Add a print() call at the end of \n",
    "your program, stating the name of the guest who can’t make it.\n",
    "- Modify your list, replacing the name of the guest who can’t make it with the \n",
    "name of the new person you are inviting.\n",
    "- Print a second set of invitation messages, one for each person who is still in \n",
    "your list."
   ]
  },
  {
   "cell_type": "code",
   "execution_count": 12,
   "metadata": {},
   "outputs": [
    {
     "name": "stdout",
     "output_type": "stream",
     "text": [
      "Allama Iqbal It would be an honor to have you join us.\n",
      "Siraj Ul Haq It would be an honor to have you join us.\n",
      "Ibrahim Khan It would be an honor to have you join us.\n"
     ]
    }
   ],
   "source": [
    "# replacing the name of the guest who can’t make it\n",
    "guest[0] = \"Allama Iqbal\"\n",
    "\n",
    "\n",
    "print(f\"{guest[0].title()} It would be an honor to have you join us.\")\n",
    "print(f\"{guest[1].title()} It would be an honor to have you join us.\")\n",
    "print(f\"{guest[2].title()} It would be an honor to have you join us.\")\n"
   ]
  },
  {
   "cell_type": "markdown",
   "metadata": {},
   "source": [
    "### 3-6. More Guests: You just found a bigger dinner table, so now more space is  available. Think of three more guests to invite to dinner.\n",
    "- Start with your program from Exercise 3-4 or 3-5. Add a print() call to the \n",
    "end of your program, informing people that you found a bigger table.\n",
    "- Use insert() to add one new guest to the beginning of your list.\n",
    "- Use insert() to add one new guest to the middle of your list.\n",
    "- Use append() to add one new guest to the end of your list.\n",
    "- Print a new set of invitation messages, one for each person in your list.\n"
   ]
  },
  {
   "cell_type": "code",
   "execution_count": 13,
   "metadata": {},
   "outputs": [
    {
     "name": "stdout",
     "output_type": "stream",
     "text": [
      "I found a bigger table\n",
      "Bilal It would be an honor to have you join us.\n",
      "Allama Iqbal It would be an honor to have you join us.\n",
      "Sulaman It would be an honor to have you join us.\n",
      "Siraj Ul Haq It would be an honor to have you join us.\n",
      "Ibrahim Khan It would be an honor to have you join us.\n",
      "Huzefa It would be an honor to have you join us.\n"
     ]
    }
   ],
   "source": [
    "print(\"I found a bigger table\")\n",
    "\n",
    "# adding new guest at the beginning\n",
    "guest.insert(0,\"Bilal\")\n",
    "# adding new guest at the middle\n",
    "guest.insert(2,\"Sulaman\")\n",
    "guest.append(\"Huzefa\")\n",
    "\n",
    "print(f\"{guest[0].title()} It would be an honor to have you join us.\")\n",
    "print(f\"{guest[1].title()} It would be an honor to have you join us.\")\n",
    "print(f\"{guest[2].title()} It would be an honor to have you join us.\")\n",
    "print(f\"{guest[3].title()} It would be an honor to have you join us.\")\n",
    "print(f\"{guest[4].title()} It would be an honor to have you join us.\")\n",
    "print(f\"{guest[5].title()} It would be an honor to have you join us.\")\n"
   ]
  },
  {
   "cell_type": "markdown",
   "metadata": {},
   "source": [
    "#### 3-7. Shrinking Guest List: You just found out that your new dinner table won’t arrive in time for the dinner, and now you have space for only two guests.\n",
    "- Start with your program from Exercise 3-6. Add a new line that prints a \n",
    "message saying that you can invite only two people for dinner.\n",
    "- Use pop() to remove guests from your list one at a time until only two \n",
    "names remain in your list. Each time you pop a name from your list, print a \n",
    "message to that person letting them know you’re sorry you can’t invite them \n",
    "to dinner.\n",
    "- Print a message to each of the two people still on your list, letting them \n",
    "know they’re still invited.\n",
    "- Use del to remove the last two names from your list, so you have an empty \n",
    "list. Print your list to make sure you actually have an empty list at the end of \n",
    "your program."
   ]
  },
  {
   "cell_type": "code",
   "execution_count": 14,
   "metadata": {},
   "outputs": [
    {
     "name": "stdout",
     "output_type": "stream",
     "text": [
      "I can invite only two people for dinner\n",
      "SorryHuzefa you are uninvited\n",
      "SorryIbrahim Khan you are uninvited\n",
      "SorrySiraj ul Haq you are uninvited\n",
      "SorrySulaman you are uninvited\n",
      "Bilal you are still invited\n",
      "Allama Iqbal you are still invited\n",
      "[]\n"
     ]
    }
   ],
   "source": [
    "print(\"I can invite only two people for dinner\")\n",
    "\n",
    "remove1 : str = guest.pop()\n",
    "print(f\"Sorry{remove1} you are uninvited\")\n",
    "\n",
    "remove2 : str = guest.pop()\n",
    "print(f\"Sorry{remove2} you are uninvited\")\n",
    "\n",
    "remove3: str = guest.pop()\n",
    "print(f\"Sorry{remove3} you are uninvited\")\n",
    "\n",
    "remove4 : str = guest.pop()\n",
    "print(f\"Sorry{remove4} you are uninvited\")\n",
    "\n",
    "\n",
    "print(f\"{guest[0]} you are still invited\")\n",
    "print(f\"{guest[1]} you are still invited\")\n",
    "\n",
    "del guest[1]\n",
    "del guest[0]\n",
    "\n",
    "print(guest)"
   ]
  },
  {
   "cell_type": "markdown",
   "metadata": {},
   "source": [
    "#### 3-8. Seeing the World: Think of at least five places in the world you’d like \n",
    "to visit.\n",
    "1. Store the locations in a list. Make sure the list is not in alphabetical order.\n",
    "2. Print your list in its original order. Don’t worry about printing the list neatly; \n",
    "just print it as a raw Python list.\n",
    "3. Use sorted() to print your list in alphabetical order without modifying the \n",
    "actual list.\n",
    "4. Show that your list is still in its original order by printing it.\n",
    "5. Use sorted() to print your list in reverse-alphabetical order without changing the order of the original list.\n",
    "6. Show that your list is still in its original order by printing it again.\n",
    "7. Use reverse() to change the order of your list. Print the list to show that its \n",
    "order has changed.\n",
    "8. Use reverse() to change the order of your list again. Print the list to show \n",
    "it’s back to its original order.\n",
    "9. Use sort() to change your list so it’s stored in alphabetical order. Print the \n",
    "list to show that its order has been changed.\n",
    "10. Use sort() to change your list so it’s stored in reverse-alphabetical order. \n",
    "Print the list to show that its order has changed.\n"
   ]
  },
  {
   "cell_type": "code",
   "execution_count": 2,
   "metadata": {},
   "outputs": [
    {
     "name": "stdout",
     "output_type": "stream",
     "text": [
      "['London', 'Dubai', 'Paris', 'Moscow', 'Iceland']\n",
      "['London', 'Dubai', 'Paris', 'Moscow', 'Iceland']\n",
      "['London', 'Dubai', 'Paris', 'Moscow', 'Iceland']\n",
      "['Iceland', 'Moscow', 'Paris', 'Dubai', 'London']\n",
      "['Dubai', 'Iceland', 'London', 'Moscow', 'Paris']\n"
     ]
    }
   ],
   "source": [
    "#1\n",
    "from audioop import reverse\n",
    "\n",
    "\n",
    "places : list[str] = [\"London\",\"Dubai\",\"Paris\",\"Moscow\",\"Iceland\"]\n",
    "#2\n",
    "print(places)\n",
    "\n",
    "#3,4\n",
    "sorted(places)\n",
    "print(places)\n",
    "\n",
    "#5,6\n",
    "sorted(places, reverse=True)\n",
    "print(places)\n",
    "\n",
    "#7,8\n",
    "places.reverse()\n",
    "print(places)\n",
    "\n",
    "#9,10\n",
    "places.sort()\n",
    "print(places)\n"
   ]
  },
  {
   "cell_type": "markdown",
   "metadata": {},
   "source": [
    "#### 3-9. Dinner Guests: Working with one of the programs from Exercises 3-4 through 3-7 (pages 41–42), use len() to print a message indicating the number of people you’re inviting to dinner"
   ]
  },
  {
   "cell_type": "code",
   "execution_count": 1,
   "metadata": {},
   "outputs": [
    {
     "name": "stdout",
     "output_type": "stream",
     "text": [
      "3\n"
     ]
    }
   ],
   "source": [
    "guest : list[str] = [\"Imran Khan\",\"Siraj ul Haq\",\"Ibrahim Khan\"]\n",
    "print(len(guest))"
   ]
  },
  {
   "cell_type": "markdown",
   "metadata": {},
   "source": [
    "#### 3-10. Every Function: Think of things you could store in a list. For example, you could make a list of mountains, rivers, countries, cities, languages, or anything else you’d like. Write a program that creates a list containing these items and then uses each function introduced in this chapter at least once."
   ]
  },
  {
   "cell_type": "code",
   "execution_count": 3,
   "metadata": {},
   "outputs": [],
   "source": [
    "# Its so lengthy"
   ]
  },
  {
   "cell_type": "markdown",
   "metadata": {},
   "source": [
    "#### 3-11. Intentional Error: If you haven’t received an index error in one of your pro\u0002grams yet, try to make one happen. Change an index in one of your programs to produce an index error. Make sure you correct the error before closing the program."
   ]
  },
  {
   "cell_type": "code",
   "execution_count": 4,
   "metadata": {},
   "outputs": [
    {
     "ename": "IndexError",
     "evalue": "list index out of range",
     "output_type": "error",
     "traceback": [
      "\u001b[1;31m---------------------------------------------------------------------------\u001b[0m",
      "\u001b[1;31mIndexError\u001b[0m                                Traceback (most recent call last)",
      "Cell \u001b[1;32mIn[4], line 2\u001b[0m\n\u001b[0;32m      1\u001b[0m guest : \u001b[38;5;28mlist\u001b[39m[\u001b[38;5;28mstr\u001b[39m] \u001b[38;5;241m=\u001b[39m [\u001b[38;5;124m\"\u001b[39m\u001b[38;5;124mImran Khan\u001b[39m\u001b[38;5;124m\"\u001b[39m,\u001b[38;5;124m\"\u001b[39m\u001b[38;5;124mSiraj ul Haq\u001b[39m\u001b[38;5;124m\"\u001b[39m,\u001b[38;5;124m\"\u001b[39m\u001b[38;5;124mIbrahim Khan\u001b[39m\u001b[38;5;124m\"\u001b[39m]\n\u001b[1;32m----> 2\u001b[0m \u001b[43mguest\u001b[49m\u001b[43m[\u001b[49m\u001b[38;5;241;43m5\u001b[39;49m\u001b[43m]\u001b[49m\n",
      "\u001b[1;31mIndexError\u001b[0m: list index out of range"
     ]
    }
   ],
   "source": [
    "guest : list[str] = [\"Imran Khan\",\"Siraj ul Haq\",\"Ibrahim Khan\"]\n",
    "guest[5]"
   ]
  },
  {
   "cell_type": "code",
   "execution_count": null,
   "metadata": {},
   "outputs": [],
   "source": []
  }
 ],
 "metadata": {
  "kernelspec": {
   "display_name": "Python12",
   "language": "python",
   "name": "python3"
  },
  "language_info": {
   "codemirror_mode": {
    "name": "ipython",
    "version": 3
   },
   "file_extension": ".py",
   "mimetype": "text/x-python",
   "name": "python",
   "nbconvert_exporter": "python",
   "pygments_lexer": "ipython3",
   "version": "3.12.0"
  }
 },
 "nbformat": 4,
 "nbformat_minor": 2
}
