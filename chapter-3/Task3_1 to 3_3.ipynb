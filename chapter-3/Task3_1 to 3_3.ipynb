{
 "cells": [
  {
   "cell_type": "markdown",
   "metadata": {},
   "source": [
    "#### 3-1. Names: Store the names of a few of your friends in a list called names. Print each person’s name by accessing each element in the list, one at a time."
   ]
  },
  {
   "cell_type": "code",
   "execution_count": 1,
   "metadata": {},
   "outputs": [
    {
     "name": "stdout",
     "output_type": "stream",
     "text": [
      "Alice\n",
      "Ali\n",
      "Joe\n",
      "Bilal\n",
      "Brandon\n"
     ]
    }
   ],
   "source": [
    "names : list[str] = ['Alice','Ali',\"Joe\",'Bilal','Brandon']\n",
    "print(names[0])\n",
    "print(names[1])\n",
    "print(names[2])\n",
    "print(names[3])\n",
    "print(names[4])"
   ]
  },
  {
   "cell_type": "markdown",
   "metadata": {},
   "source": [
    "#### 3-2. Greetings: Start with the list you used in Exercise 3-1, but instead of just printing each person’s name, print a message to them. The text of each message should be the same, but each message should be personalized with the person’s name."
   ]
  },
  {
   "cell_type": "code",
   "execution_count": 2,
   "metadata": {},
   "outputs": [
    {
     "name": "stdout",
     "output_type": "stream",
     "text": [
      "Hello Alice!\n",
      "Hello Ali!\n",
      "Hello Joe!\n",
      "Hello Bilal!\n",
      "Hello Brandon!\n"
     ]
    }
   ],
   "source": [
    "names : list[str] = ['Alice','Ali',\"Joe\",'Bilal','Brandon']\n",
    "print(f\"Hello {names[0]}!\")\n",
    "print(f\"Hello {names[1]}!\")\n",
    "print(f\"Hello {names[2]}!\")\n",
    "print(f\"Hello {names[3]}!\")\n",
    "print(f\"Hello {names[4]}!\")"
   ]
  },
  {
   "cell_type": "markdown",
   "metadata": {},
   "source": [
    "#### 3-3. Your Own List: Think of your favorite mode of transportation, such as a motorcycle or a car, and make a list that stores several examples. Use your list to print a series of statements about these items, such as “I would like to own a Honda motorcycle.”"
   ]
  },
  {
   "cell_type": "code",
   "execution_count": 3,
   "metadata": {},
   "outputs": [
    {
     "name": "stdout",
     "output_type": "stream",
     "text": [
      "I would like to own a Honda motorcycle\n",
      "I would like to drive a sports car\n",
      "I have a trail bicycle\n",
      "I love travelling by train\n"
     ]
    }
   ],
   "source": [
    "# Create a list of favorite modes of transportation\n",
    "transportation_list : list[str] = ['motorcycle', 'car', 'bicycle', 'train']\n",
    "print(f\"I would like to own a Honda {transportation_list[0]}\")\n",
    "print(f\"I would like to drive a sports {transportation_list[1]}\")\n",
    "print(f\"I have a trail {transportation_list[2]}\")\n",
    "print(f\"I love travelling by {transportation_list[3]}\")"
   ]
  },
  {
   "cell_type": "code",
   "execution_count": null,
   "metadata": {},
   "outputs": [],
   "source": []
  }
 ],
 "metadata": {
  "kernelspec": {
   "display_name": "Python12",
   "language": "python",
   "name": "python3"
  },
  "language_info": {
   "codemirror_mode": {
    "name": "ipython",
    "version": 3
   },
   "file_extension": ".py",
   "mimetype": "text/x-python",
   "name": "python",
   "nbconvert_exporter": "python",
   "pygments_lexer": "ipython3",
   "version": "3.12.0"
  }
 },
 "nbformat": 4,
 "nbformat_minor": 2
}
