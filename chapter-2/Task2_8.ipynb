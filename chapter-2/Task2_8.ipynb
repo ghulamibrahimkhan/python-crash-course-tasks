{
 "cells": [
  {
   "cell_type": "markdown",
   "metadata": {},
   "source": [
    "# 2-8. File Extensions: Python has a removesuffix() method that works exactly \n",
    "# like removeprefix(). Assign the value 'python_notes.txt' to a variable called \n",
    "# filename. Then use the removesuffix() method to display the filename without \n",
    "# the file extension, like some file browsers do."
   ]
  },
  {
   "cell_type": "code",
   "execution_count": 3,
   "metadata": {},
   "outputs": [
    {
     "name": "stdout",
     "output_type": "stream",
     "text": [
      "python_notes\n"
     ]
    }
   ],
   "source": [
    "file_name : str = \"python_notes.txt\"\n",
    "file_name = file_name.removesuffix(\".txt\")\n",
    "print(file_name)"
   ]
  }
 ],
 "metadata": {
  "kernelspec": {
   "display_name": "Python12",
   "language": "python",
   "name": "python3"
  },
  "language_info": {
   "codemirror_mode": {
    "name": "ipython",
    "version": 3
   },
   "file_extension": ".py",
   "mimetype": "text/x-python",
   "name": "python",
   "nbconvert_exporter": "python",
   "pygments_lexer": "ipython3",
   "version": "3.12.0"
  }
 },
 "nbformat": 4,
 "nbformat_minor": 2
}
