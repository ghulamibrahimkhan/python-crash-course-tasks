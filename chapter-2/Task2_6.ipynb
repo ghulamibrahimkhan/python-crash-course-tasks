{
 "cells": [
  {
   "cell_type": "markdown",
   "metadata": {},
   "source": [
    "# 2-6. Famous Quote 2: Repeat Exercise 2-5, but this time, represent the famous \n",
    "# person’s name using a variable called famous_person. Then compose your message and represent it with a new variable called message. Print your message."
   ]
  },
  {
   "cell_type": "code",
   "execution_count": 1,
   "metadata": {},
   "outputs": [
    {
     "name": "stdout",
     "output_type": "stream",
     "text": [
      "Albert Einstein, once said, \"A person who never made a mistake never tried anything new\"\n"
     ]
    }
   ],
   "source": [
    "quote : str = \"A person who never made a mistake never tried anything new\" \n",
    "person : str = \"Albert Einstein\"\n",
    "message = f\"\"\"{person}, once said, \\\"{quote}\\\"\"\"\"\n",
    "print(message)"
   ]
  }
 ],
 "metadata": {
  "kernelspec": {
   "display_name": "Python12",
   "language": "python",
   "name": "python3"
  },
  "language_info": {
   "codemirror_mode": {
    "name": "ipython",
    "version": 3
   },
   "file_extension": ".py",
   "mimetype": "text/x-python",
   "name": "python",
   "nbconvert_exporter": "python",
   "pygments_lexer": "ipython3",
   "version": "3.12.0"
  }
 },
 "nbformat": 4,
 "nbformat_minor": 2
}
