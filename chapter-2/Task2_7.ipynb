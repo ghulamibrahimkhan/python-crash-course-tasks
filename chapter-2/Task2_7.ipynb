{
 "cells": [
  {
   "cell_type": "markdown",
   "metadata": {},
   "source": [
    "# 2-7. Stripping Names: Use a variable to represent a person’s name, and \n",
    "# include some whitespace characters at the beginning and end of the name. \n",
    "# Make sure you use each character combination, \"\\t\" and \"\\n\", at least once.\n",
    "# Print the name once, so the whitespace around the name is displayed. \n",
    "# Then print the name using each of the three stripping functions, lstrip(), \n",
    "# rstrip(), and strip()."
   ]
  },
  {
   "cell_type": "code",
   "execution_count": 7,
   "metadata": {},
   "outputs": [
    {
     "name": "stdout",
     "output_type": "stream",
     "text": [
      "  Hello\tWorld\n",
      "  Asalamo Alaikum!     \n"
     ]
    },
    {
     "data": {
      "text/plain": [
       "'  Hello\\tWorld\\n  Asalamo Alaikum!     '"
      ]
     },
     "metadata": {},
     "output_type": "display_data"
    },
    {
     "name": "stdout",
     "output_type": "stream",
     "text": [
      "Hello\tWorld\n",
      "  Asalamo Alaikum!     \n",
      "  Hello\tWorld\n",
      "  Asalamo Alaikum!\n",
      "Hello\tWorld\n",
      "  Asalamo Alaikum!\n"
     ]
    }
   ],
   "source": [
    "name : str = \"  Hello\\tWorld\\n  Asalamo Alaikum!     \" \n",
    "print(name)\n",
    "display(name)\n",
    "\n",
    "print(name.lstrip())\n",
    "print(name.rstrip())\n",
    "print(name.strip())"
   ]
  }
 ],
 "metadata": {
  "kernelspec": {
   "display_name": "Python12",
   "language": "python",
   "name": "python3"
  },
  "language_info": {
   "codemirror_mode": {
    "name": "ipython",
    "version": 3
   },
   "file_extension": ".py",
   "mimetype": "text/x-python",
   "name": "python",
   "nbconvert_exporter": "python",
   "pygments_lexer": "ipython3",
   "version": "3.12.0"
  }
 },
 "nbformat": 4,
 "nbformat_minor": 2
}
