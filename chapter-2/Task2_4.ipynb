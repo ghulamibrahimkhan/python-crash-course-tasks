{
 "cells": [
  {
   "cell_type": "markdown",
   "metadata": {},
   "source": [
    "# Name Cases: Use a variable to represent a person’s name, and then print \n",
    "# that person’s name in lowercase, uppercase, and title case"
   ]
  },
  {
   "cell_type": "code",
   "execution_count": 2,
   "metadata": {},
   "outputs": [
    {
     "name": "stdout",
     "output_type": "stream",
     "text": [
      "GHULAM IBRAHIM KHAN\n",
      "Ghulam Ibrahim Khan\n",
      "ghulam ibrahim khan\n"
     ]
    }
   ],
   "source": [
    "person_name = \"Ghulam Ibrahim Khan\"\n",
    "print(person_name.upper())\n",
    "print(person_name.title())\n",
    "print(person_name.lower())"
   ]
  }
 ],
 "metadata": {
  "kernelspec": {
   "display_name": "Python12",
   "language": "python",
   "name": "python3"
  },
  "language_info": {
   "codemirror_mode": {
    "name": "ipython",
    "version": 3
   },
   "file_extension": ".py",
   "mimetype": "text/x-python",
   "name": "python",
   "nbconvert_exporter": "python",
   "pygments_lexer": "ipython3",
   "version": "3.12.0"
  }
 },
 "nbformat": 4,
 "nbformat_minor": 2
}
